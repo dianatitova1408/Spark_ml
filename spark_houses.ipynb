{
 "cells": [
  {
   "cell_type": "code",
   "execution_count": 1,
   "metadata": {},
   "outputs": [],
   "source": [
    "cols = ['crim', 'zn', 'indus', \\\n",
    "        'chas', 'nox', 'rm', \\\n",
    "        'age', 'dis', 'rad', \\\n",
    "        'tax' ,'ptratio', 'black', \\\n",
    "       'lstat', 'medv']"
   ]
  },
  {
   "cell_type": "code",
   "execution_count": 2,
   "metadata": {},
   "outputs": [
    {
     "name": "stdout",
     "output_type": "stream",
     "text": [
      "user: /user/st057275/\n"
     ]
    },
    {
     "data": {
      "text/html": [
       "\n",
       "            <div>\n",
       "                <p><b>SparkSession - in-memory</b></p>\n",
       "                \n",
       "        <div>\n",
       "            <p><b>SparkContext</b></p>\n",
       "\n",
       "            <p><a href=\"/user/st057275/proxy/4040/jobs/\">Spark UI</a></p>\n",
       "\n",
       "            <dl>\n",
       "              <dt>Version</dt>\n",
       "                <dd><code>v3.0.1</code></dd>\n",
       "              <dt>Master</dt>\n",
       "                <dd><code>local[*]</code></dd>\n",
       "              <dt>AppName</dt>\n",
       "                <dd><code>pyspark-shell</code></dd>\n",
       "            </dl>\n",
       "        </div>\n",
       "        \n",
       "            </div>\n",
       "        "
      ],
      "text/plain": [
       "<pyspark.sql.session.SparkSession at 0x7f19b19ac370>"
      ]
     },
     "execution_count": 2,
     "metadata": {},
     "output_type": "execute_result"
    }
   ],
   "source": [
    "#import smth\n",
    "\n",
    "import os\n",
    "import json\n",
    "import boto3\n",
    "import sklearn\n",
    "import socket\n",
    "from pyspark import SparkContext, SparkConf\n",
    "from pyspark.sql import SparkSession\n",
    "from pyspark.sql import functions as F\n",
    "import pandas as pd\n",
    "import numpy as np\n",
    "\n",
    "from pyspark.sql import  SQLContext\n",
    "\n",
    "from pyspark.sql.types import *\n",
    "from pyspark.sql.functions import udf, col\n",
    "\n",
    "from pyspark.ml.regression import LinearRegression\n",
    "from pyspark.mllib.evaluation import RegressionMetrics\n",
    "\n",
    "from pyspark.ml.tuning import ParamGridBuilder, CrossValidator, CrossValidatorModel\n",
    "from pyspark.ml.feature import VectorAssembler, StandardScaler\n",
    "from pyspark.ml.evaluation import RegressionEvaluator\n",
    "\n",
    "\n",
    "print('user:', os.environ['JUPYTERHUB_SERVICE_PREFIX'])\n",
    "\n",
    "def uiWebUrl(self):\n",
    "    from urllib.parse import urlparse\n",
    "    web_url = self._jsc.sc().uiWebUrl().get()\n",
    "    port = urlparse(web_url).port\n",
    "    return \"{}proxy/{}/jobs/\".format(os.environ['JUPYTERHUB_SERVICE_PREFIX'], port)\n",
    "\n",
    "# small fix to enable UI views\n",
    "SparkContext.uiWebUrl = property(uiWebUrl)\n",
    "\n",
    "# spark configurtion in local regime \n",
    "conf = SparkConf().set('spark.master', 'local[*]').set('spark.driver.memory', '8g')\n",
    "\n",
    "#some needed objects\n",
    "sc = SparkContext(conf=conf)\n",
    "spark = SparkSession(sc)\n",
    "spark"
   ]
  },
  {
   "cell_type": "code",
   "execution_count": 3,
   "metadata": {},
   "outputs": [
    {
     "name": "stdout",
     "output_type": "stream",
     "text": [
      "root\n",
      " |-- crim: float (nullable = true)\n",
      " |-- zn: float (nullable = true)\n",
      " |-- indus: float (nullable = true)\n",
      " |-- chas: float (nullable = true)\n",
      " |-- nox: float (nullable = true)\n",
      " |-- rm: float (nullable = true)\n",
      " |-- age: float (nullable = true)\n",
      " |-- dis: float (nullable = true)\n",
      " |-- rad: float (nullable = true)\n",
      " |-- tax: float (nullable = true)\n",
      " |-- ptratio: float (nullable = true)\n",
      " |-- black: float (nullable = true)\n",
      " |-- lstat: float (nullable = true)\n",
      " |-- medv: float (nullable = true)\n",
      "\n"
     ]
    }
   ],
   "source": [
    "from pyspark.sql.types import StructType, StructField, IntegerType, FloatType\n",
    "\n",
    "schema = StructType([StructField(col_name, FloatType(), True) for col_name in cols])\n",
    "\n",
    "\n",
    "data = spark.read.option(\"delimiter\", \"  \").csv(\"./housing.csv\", schema=schema)\n",
    "\n",
    "data.printSchema()"
   ]
  },
  {
   "cell_type": "markdown",
   "metadata": {},
   "source": [
    "# Analysis of dataset"
   ]
  },
  {
   "cell_type": "code",
   "execution_count": 4,
   "metadata": {
    "scrolled": true
   },
   "outputs": [
    {
     "data": {
      "text/plain": [
       "(506, 14)"
      ]
     },
     "execution_count": 4,
     "metadata": {},
     "output_type": "execute_result"
    }
   ],
   "source": [
    "data.count() , len(data.columns)"
   ]
  },
  {
   "cell_type": "code",
   "execution_count": 5,
   "metadata": {},
   "outputs": [
    {
     "name": "stdout",
     "output_type": "stream",
     "text": [
      "+-------+------------------+-------------------+------------------+------------------+------------------+------------------+\n",
      "|summary|              medv|               chas|                rm|               age|               rad|             black|\n",
      "+-------+------------------+-------------------+------------------+------------------+------------------+------------------+\n",
      "|  count|                24|                506|               463|               501|               506|               506|\n",
      "|   mean|12.512500007947287|0.06998221346512143| 6.413174948990989| 60.50667007573826|  59.8399209486166|13.807154139393402|\n",
      "| stddev|  3.12650842868739|0.25442920332191404|1.7223350794288728|31.945046689100764|164.16099338666518|12.039852735065013|\n",
      "|    min|               7.5|                0.0|             3.561|             1.137|               1.0|              0.32|\n",
      "|    max|              19.0|                1.0|              40.5|              99.3|             666.0|             97.95|\n",
      "+-------+------------------+-------------------+------------------+------------------+------------------+------------------+\n",
      "\n"
     ]
    }
   ],
   "source": [
    "data.select('medv', 'chas', 'rm', 'age', 'rad', 'black').describe().show()"
   ]
  },
  {
   "cell_type": "code",
   "execution_count": 6,
   "metadata": {
    "scrolled": true
   },
   "outputs": [
    {
     "name": "stdout",
     "output_type": "stream",
     "text": [
      "+----+---+-----+----+---+---+---+---+---+---+-------+-----+-----+----+\n",
      "|crim| zn|indus|chas|nox| rm|age|dis|rad|tax|ptratio|black|lstat|medv|\n",
      "+----+---+-----+----+---+---+---+---+---+---+-------+-----+-----+----+\n",
      "|   1|  0|    0|   0|  0| 43|  5|  0|  0| 42|    433|    0|   42| 482|\n",
      "+----+---+-----+----+---+---+---+---+---+---+-------+-----+-----+----+\n",
      "\n"
     ]
    }
   ],
   "source": [
    "import pyspark.sql.functions as f\n",
    "data_agg = data.agg(*[f.count(f.when(f.isnull(c), c)).alias(c) for c in data.columns])\n",
    "data_agg.show()"
   ]
  },
  {
   "cell_type": "code",
   "execution_count": 7,
   "metadata": {},
   "outputs": [
    {
     "name": "stdout",
     "output_type": "stream",
     "text": [
      "+------------+----+----+----+----+----+----+----+----+----+----+----+----+----+----+----+----+---+---+---+---+---+----+\n",
      "|ptratio_medv|10.2|10.9|11.0|11.7|11.8|12.7|13.1|13.4|13.5|14.1|14.5|14.9|15.6|16.1|18.6|19.0|7.5|8.3|8.4|9.5|9.6|null|\n",
      "+------------+----+----+----+----+----+----+----+----+----+----+----+----+----+----+----+----+---+---+---+---+---+----+\n",
      "|       12.13|   0|   0|   0|   0|   0|   0|   0|   0|   0|   0|   0|   0|   0|   0|   0|   0|  0|  0|  0|  0|  0|   1|\n",
      "|       13.04|   0|   0|   0|   0|   0|   0|   0|   0|   0|   0|   0|   0|   0|   0|   0|   0|  0|  0|  0|  0|  0|   1|\n",
      "|       13.28|   0|   0|   0|   0|   0|   0|   0|   0|   0|   0|   0|   0|   0|   0|   0|   0|  0|  0|  0|  0|  0|   1|\n",
      "|       13.33|   0|   0|   0|   0|   0|   0|   0|   0|   0|   0|   0|   0|   0|   0|   0|   0|  0|  0|  0|  0|  0|   1|\n",
      "|        14.7|   0|   0|   0|   0|   0|   0|   1|   0|   0|   0|   0|   0|   1|   0|   0|   0|  0|  0|  0|  0|  0|   0|\n",
      "|       15.02|   0|   0|   0|   0|   0|   0|   0|   0|   0|   0|   0|   0|   0|   0|   0|   0|  0|  0|  0|  0|  0|   1|\n",
      "|       16.45|   0|   0|   0|   0|   0|   0|   0|   0|   0|   0|   0|   0|   0|   0|   0|   0|  0|  0|  0|  0|  0|   1|\n",
      "|       16.59|   0|   0|   0|   0|   0|   0|   0|   0|   0|   0|   0|   0|   0|   0|   0|   0|  0|  0|  0|  0|  0|   1|\n",
      "|       16.65|   0|   0|   0|   0|   0|   0|   0|   0|   0|   0|   0|   0|   0|   0|   0|   0|  0|  0|  0|  0|  0|   1|\n",
      "|       18.85|   0|   0|   0|   0|   0|   0|   0|   0|   0|   0|   0|   0|   0|   0|   0|   0|  0|  0|  0|  0|  0|   1|\n",
      "|       19.78|   0|   0|   0|   0|   0|   0|   0|   0|   0|   0|   0|   0|   0|   0|   0|   0|  0|  0|  0|  0|  0|   1|\n",
      "|       19.88|   0|   0|   0|   0|   0|   0|   0|   0|   0|   0|   0|   0|   0|   0|   0|   0|  0|  0|  0|  0|  0|   1|\n",
      "|         2.6|   0|   0|   0|   0|   0|   0|   0|   0|   0|   0|   0|   0|   0|   0|   0|   0|  0|  0|  0|  0|  0|   1|\n",
      "|       20.08|   0|   0|   0|   0|   0|   0|   0|   0|   0|   0|   0|   0|   0|   0|   0|   0|  0|  0|  0|  0|  0|   1|\n",
      "|        20.2|   1|   1|   1|   1|   1|   1|   0|   2|   1|   2|   1|   1|   0|   1|   0|   1|  1|  1|  2|  1|  1|   0|\n",
      "|       20.31|   0|   0|   0|   0|   0|   0|   0|   0|   0|   0|   0|   0|   0|   0|   0|   0|  0|  0|  0|  0|  0|   1|\n",
      "|       20.32|   0|   0|   0|   0|   0|   0|   0|   0|   0|   0|   0|   0|   0|   0|   0|   0|  0|  0|  0|  0|  0|   1|\n",
      "|        20.9|   0|   0|   0|   0|   0|   0|   0|   0|   0|   0|   0|   0|   0|   0|   1|   0|  0|  0|  0|  0|  0|   0|\n",
      "|       21.78|   0|   0|   0|   0|   0|   0|   0|   0|   0|   0|   0|   0|   0|   0|   0|   0|  0|  0|  0|  0|  0|   1|\n",
      "|       22.98|   0|   0|   0|   0|   0|   0|   0|   0|   0|   0|   0|   0|   0|   0|   0|   0|  0|  0|  0|  0|  0|   1|\n",
      "+------------+----+----+----+----+----+----+----+----+----+----+----+----+----+----+----+----+---+---+---+---+---+----+\n",
      "only showing top 20 rows\n",
      "\n"
     ]
    }
   ],
   "source": [
    "data.crosstab('ptratio', 'medv').sort(\"ptratio_medv\").show(20)"
   ]
  },
  {
   "cell_type": "markdown",
   "metadata": {},
   "source": [
    " # Due to the fact that there are missing values in 'ptratio' , we have to drop all columns with 'ptratio 'null values, because most of them also coincide with null values in target variable."
   ]
  },
  {
   "cell_type": "code",
   "execution_count": 8,
   "metadata": {},
   "outputs": [
    {
     "name": "stdout",
     "output_type": "stream",
     "text": [
      "+-------+----+-----+-----+-----+-----+------+------+-----+-----+-------+-----+-----+----+\n",
      "|   crim|  zn|indus| chas|  nox|   rm|   age|   dis|  rad|  tax|ptratio|black|lstat|medv|\n",
      "+-------+----+-----+-----+-----+-----+------+------+-----+-----+-------+-----+-----+----+\n",
      "|0.21124|12.5| 7.87|  0.0|0.524| null|6.0821|   5.0|311.0| null|  29.93| 16.5| null|null|\n",
      "|0.98843| 0.0| 8.14|  0.0|0.538| null|4.0952|   4.0|307.0| null|  19.88| 14.5| null|null|\n",
      "|1.35472| 0.0| 8.14|  0.0|0.538| null| 4.175|   4.0|307.0| null|  13.04| 14.5| null|null|\n",
      "|   null|1.32|  0.0|0.411|6.816| 40.5|8.3248|   5.0|256.0| null|   3.95| 31.6| null|null|\n",
      "|0.22876| 0.0| 8.56|  0.0| 0.52|6.405|  85.4|2.7147|  5.0|384.0|   20.9| 70.8|10.63|18.6|\n",
      "|1.62864| 0.0|21.89|  0.0|0.624| null|1.4394|   4.0|437.0| null|  34.41| 14.4| null|null|\n",
      "|3.32105| 0.0|19.58|  1.0|0.871| null|1.3216|   5.0|403.0| null|  26.82| 13.4| null|null|\n",
      "| 4.0974| 0.0|19.58|  0.0|0.871| null|1.4118|   5.0|403.0| null|  26.42| 15.6| null|null|\n",
      "|2.37934| 0.0|19.58|  0.0|0.871| null|1.4191|   5.0|403.0| null|   27.8| 13.8| null|null|\n",
      "|2.15505| 0.0|19.58|  0.0|0.871| null|1.5166|   5.0|403.0| null|  16.65| 15.6| null|null|\n",
      "|1.49632| 0.0|19.58|  0.0|0.871| null|1.5916|   5.0|403.0| null|  13.28| 19.6| null|null|\n",
      "|3.53501| 0.0|19.58|  1.0|0.871|6.152|  82.6|1.7455|  5.0|403.0|   14.7|88.01|15.02|15.6|\n",
      "|2.44668| 0.0|19.58|  0.0|0.871|5.272|  94.0|1.7364|  5.0|403.0|   14.7|88.63|16.14|13.1|\n",
      "|1.34284| 0.0|19.58|  0.0|0.605| null|1.7573|   5.0|403.0| null|   6.43| 24.3| null|null|\n",
      "|1.42502| 0.0|19.58|  0.0|0.871| null|1.7659|   5.0|403.0| null|   7.39| 23.3| null|null|\n",
      "|0.43571| 0.0|10.59|  1.0|0.489| null| 3.875|   4.0|277.0| null|  23.09| 20.0| null|null|\n",
      "|0.66351|20.0| 3.97|  0.0|0.647| null|1.8946|   5.0|264.0| null|   7.79| 36.0| null|null|\n",
      "|0.65665|20.0| 3.97|  0.0|0.647| null|2.0107|   5.0|264.0| null|    6.9| 30.1| null|null|\n",
      "| 0.0795|60.0| 1.69|  0.0|0.411|6.579|  null|   4.0|411.0| null|   5.49| 24.1| null|null|\n",
      "|0.07244|60.0| 1.69|  0.0|0.411|5.884|  null|   4.0|411.0| null|   7.79| 18.6| null|null|\n",
      "+-------+----+-----+-----+-----+-----+------+------+-----+-----+-------+-----+-----+----+\n",
      "only showing top 20 rows\n",
      "\n"
     ]
    }
   ],
   "source": [
    "from pyspark.sql.functions import col\n",
    "data2 = data.where(col(\"ptratio\").isNotNull())\n",
    "data2.show()"
   ]
  },
  {
   "cell_type": "code",
   "execution_count": 9,
   "metadata": {},
   "outputs": [
    {
     "name": "stdout",
     "output_type": "stream",
     "text": [
      "(73, 14)\n"
     ]
    }
   ],
   "source": [
    "print((data2.count(), len(data2.columns)))"
   ]
  },
  {
   "cell_type": "code",
   "execution_count": 24,
   "metadata": {},
   "outputs": [
    {
     "name": "stdout",
     "output_type": "stream",
     "text": [
      "+----+---+-----+----+---+---+---+---+---+---+-------+-----+-----+----+\n",
      "|crim| zn|indus|chas|nox| rm|age|dis|rad|tax|ptratio|black|lstat|medv|\n",
      "+----+---+-----+----+---+---+---+---+---+---+-------+-----+-----+----+\n",
      "|   1|  0|    0|   0|  0| 43|  5|  0|  0| 42|      0|    0|   42|  49|\n",
      "+----+---+-----+----+---+---+---+---+---+---+-------+-----+-----+----+\n",
      "\n"
     ]
    }
   ],
   "source": [
    "import pyspark.sql.functions as f\n",
    "data_agg = data2.agg(*[f.count(f.when(f.isnull(c), c)).alias(c) for c in data2.columns])\n",
    "data_agg.show()"
   ]
  },
  {
   "cell_type": "code",
   "execution_count": 12,
   "metadata": {},
   "outputs": [
    {
     "data": {
      "text/plain": [
       "<AxesSubplot:>"
      ]
     },
     "execution_count": 12,
     "metadata": {},
     "output_type": "execute_result"
    },
    {
     "data": {
      "image/png": "[encoded data removed]",
      "text/plain": [
       "<Figure size 432x288 with 1 Axes>"
      ]
     },
     "metadata": {
      "needs_background": "light"
     },
     "output_type": "display_data"
    }
   ],
   "source": [
    "data2.crosstab('tax', 'medv').sort(\"tax_medv\").toPandas().plot()"
   ]
  },
  {
   "cell_type": "code",
   "execution_count": 13,
   "metadata": {},
   "outputs": [
    {
     "data": {
      "text/plain": [
       "<AxesSubplot:>"
      ]
     },
     "execution_count": 13,
     "metadata": {},
     "output_type": "execute_result"
    },
    {
     "data": {
      "image/png": "[encoded data removed]",
      "text/plain": [
       "<Figure size 432x288 with 1 Axes>"
      ]
     },
     "metadata": {
      "needs_background": "light"
     },
     "output_type": "display_data"
    }
   ],
   "source": [
    "data2.crosstab('rm', 'medv').sort(\"rm_medv\").toPandas().plot()"
   ]
  },
  {
   "cell_type": "code",
   "execution_count": 15,
   "metadata": {},
   "outputs": [
    {
     "data": {
      "text/plain": [
       "<AxesSubplot:>"
      ]
     },
     "execution_count": 15,
     "metadata": {},
     "output_type": "execute_result"
    },
    {
     "data": {
      "image/png": "[encoded data removed]",
      "text/plain": [
       "<Figure size 432x288 with 1 Axes>"
      ]
     },
     "metadata": {
      "needs_background": "light"
     },
     "output_type": "display_data"
    }
   ],
   "source": [
    "data2.crosstab('lstat', 'medv').sort(\"lstat_medv\").toPandas().plot()"
   ]
  },
  {
   "cell_type": "markdown",
   "metadata": {},
   "source": [
    " # We should also drop 'lstat' column"
   ]
  },
  {
   "cell_type": "code",
   "execution_count": 16,
   "metadata": {},
   "outputs": [
    {
     "name": "stdout",
     "output_type": "stream",
     "text": [
      "+-------+---+-----+----+-----+-----+------+------+-----+-----+-------+-----+-----+----+\n",
      "|   crim| zn|indus|chas|  nox|   rm|   age|   dis|  rad|  tax|ptratio|black|lstat|medv|\n",
      "+-------+---+-----+----+-----+-----+------+------+-----+-----+-------+-----+-----+----+\n",
      "|0.22876|0.0| 8.56| 0.0| 0.52|6.405|  85.4|2.7147|  5.0|384.0|   20.9| 70.8|10.63|18.6|\n",
      "|3.53501|0.0|19.58| 1.0|0.871|6.152|  82.6|1.7455|  5.0|403.0|   14.7|88.01|15.02|15.6|\n",
      "|2.44668|0.0|19.58| 0.0|0.871|5.272|  94.0|1.7364|  5.0|403.0|   14.7|88.63|16.14|13.1|\n",
      "|51.1358|0.0| 18.1| 0.0|0.597| null| 1.413|  24.0|666.0| 20.2|    2.6|10.11| 15.0|null|\n",
      "|14.0507|0.0| 18.1| 0.0|0.597| null|1.5275|  24.0|666.0| 20.2|  35.05|21.22| 17.2|null|\n",
      "| 18.811|0.0| 18.1| 0.0|0.597| null|1.5539|  24.0|666.0| 20.2|  28.79|34.37| 17.9|null|\n",
      "|45.7461|0.0| 18.1| 0.0|0.693| null|1.6582|  24.0|666.0| 20.2|  88.27|36.98|  7.0|null|\n",
      "|18.0846|0.0| 18.1| 0.0|0.679| null|1.8347|  24.0|666.0| 20.2|  27.25|29.05|  7.2|null|\n",
      "|10.8342|0.0| 18.1| 0.0|0.679|6.782|  90.8|1.8195| 24.0|666.0|   20.2|21.57|25.79| 7.5|\n",
      "|73.5341|0.0| 18.1| 0.0|0.679| null|1.8026|  24.0|666.0| 20.2|  16.45|20.62|  8.8|null|\n",
      "|11.8123|0.0| 18.1| 0.0|0.718|6.824|  76.5| 1.794| 24.0|666.0|   20.2|48.45|22.74| 8.4|\n",
      "|7.05042|0.0| 18.1| 0.0|0.614|6.103|  85.1|2.0218| 24.0|666.0|   20.2| 2.52|23.29|13.4|\n",
      "|8.79212|0.0| 18.1| 0.0|0.584|5.565|  70.6|2.0635| 24.0|666.0|   20.2| 3.65|17.16|11.7|\n",
      "|15.8603|0.0| 18.1| 0.0|0.679|5.896|  95.4|1.9096| 24.0|666.0|   20.2| 7.68|24.39| 8.3|\n",
      "|12.2472|0.0| 18.1| 0.0|0.584|5.837|  59.7|1.9976| 24.0|666.0|   20.2|24.65|15.69|10.2|\n",
      "|37.6619|0.0| 18.1| 0.0|0.679|6.202|  78.7|1.8629| 24.0|666.0|   20.2|18.82|14.52|10.9|\n",
      "|7.36711|0.0| 18.1| 0.0|0.679|6.193|  78.1|1.9356| 24.0|666.0|   20.2|96.73|21.52|11.0|\n",
      "|9.33889|0.0| 18.1| 0.0|0.679| 6.38|  95.6|1.9682| 24.0|666.0|   20.2|60.72|24.08| 9.5|\n",
      "|8.49213|0.0| 18.1| 0.0|0.584|6.348|  86.1|2.0527| 24.0|666.0|   20.2|83.45|17.64|14.5|\n",
      "|10.0623|0.0| 18.1| 0.0|0.584|6.833|  94.3|2.0882| 24.0|666.0|   20.2|81.33|19.69|14.1|\n",
      "+-------+---+-----+----+-----+-----+------+------+-----+-----+-------+-----+-----+----+\n",
      "only showing top 20 rows\n",
      "\n"
     ]
    }
   ],
   "source": [
    "from pyspark.sql.functions import col\n",
    "data2 = data2.where(col(\"lstat\").isNotNull())\n",
    "data2.show()"
   ]
  },
  {
   "cell_type": "code",
   "execution_count": 17,
   "metadata": {},
   "outputs": [
    {
     "name": "stdout",
     "output_type": "stream",
     "text": [
      "+----+---+-----+----+---+---+---+---+---+---+-------+-----+-----+----+\n",
      "|crim| zn|indus|chas|nox| rm|age|dis|rad|tax|ptratio|black|lstat|medv|\n",
      "+----+---+-----+----+---+---+---+---+---+---+-------+-----+-----+----+\n",
      "|   0|  0|    0|   0|  0|  7|  0|  0|  0|  0|      0|    0|    0|   7|\n",
      "+----+---+-----+----+---+---+---+---+---+---+-------+-----+-----+----+\n",
      "\n"
     ]
    }
   ],
   "source": [
    "import pyspark.sql.functions as f\n",
    "data_agg = data2.agg(*[f.count(f.when(f.isnull(c), c)).alias(c) for c in data2.columns])\n",
    "data_agg.show()"
   ]
  },
  {
   "cell_type": "code",
   "execution_count": 18,
   "metadata": {},
   "outputs": [
    {
     "name": "stdout",
     "output_type": "stream",
     "text": [
      "+-------+------------------+\n",
      "|summary|                rm|\n",
      "+-------+------------------+\n",
      "|  count|                24|\n",
      "|   mean| 6.247416694959004|\n",
      "| stddev|0.4061889127466313|\n",
      "|    min|             5.272|\n",
      "|    max|             6.833|\n",
      "+-------+------------------+\n",
      "\n"
     ]
    }
   ],
   "source": [
    "data2.describe('rm').show()"
   ]
  },
  {
   "cell_type": "code",
   "execution_count": 19,
   "metadata": {},
   "outputs": [
    {
     "name": "stdout",
     "output_type": "stream",
     "text": [
      "+-------+------------------+\n",
      "|summary|              medv|\n",
      "+-------+------------------+\n",
      "|  count|                24|\n",
      "|   mean|12.512500007947287|\n",
      "| stddev|  3.12650842868739|\n",
      "|    min|               7.5|\n",
      "|    max|              19.0|\n",
      "+-------+------------------+\n",
      "\n"
     ]
    }
   ],
   "source": [
    "data2.describe('medv').show()"
   ]
  },
  {
   "cell_type": "code",
   "execution_count": 20,
   "metadata": {},
   "outputs": [],
   "source": [
    "data2 = data2.fillna(12.512500007947287, subset = 'medv')\n",
    "data2 = data2.fillna (6.247416694959004, subset = 'rm')"
   ]
  },
  {
   "cell_type": "code",
   "execution_count": 21,
   "metadata": {},
   "outputs": [
    {
     "name": "stdout",
     "output_type": "stream",
     "text": [
      "+----+---+-----+----+---+---+---+---+---+---+-------+-----+-----+----+\n",
      "|crim| zn|indus|chas|nox| rm|age|dis|rad|tax|ptratio|black|lstat|medv|\n",
      "+----+---+-----+----+---+---+---+---+---+---+-------+-----+-----+----+\n",
      "|   0|  0|    0|   0|  0|  0|  0|  0|  0|  0|      0|    0|    0|   0|\n",
      "+----+---+-----+----+---+---+---+---+---+---+-------+-----+-----+----+\n",
      "\n"
     ]
    }
   ],
   "source": [
    "import pyspark.sql.functions as f\n",
    "data_agg = data2.agg(*[f.count(f.when(f.isnull(c), c)).alias(c) for c in data2.columns])\n",
    "data_agg.show()"
   ]
  },
  {
   "cell_type": "code",
   "execution_count": 22,
   "metadata": {},
   "outputs": [
    {
     "name": "stdout",
     "output_type": "stream",
     "text": [
      "Correlation medv to  crim -0.2030843765082188\n",
      "Correlation medv to  zn nan\n",
      "Correlation medv to  indus -0.36207892486931337\n",
      "Correlation medv to  chas 0.2093166246336407\n",
      "Correlation medv to  nox -0.1962814307107618\n",
      "Correlation medv to  rm -0.010627601133553198\n",
      "Correlation medv to  age -0.005534441961469719\n",
      "Correlation medv to  dis 0.02138222549282407\n",
      "Correlation medv to  rad -0.008244966525770751\n",
      "Correlation medv to  tax -0.12006677786574514\n",
      "Correlation medv to  ptratio -0.014504499686995617\n",
      "Correlation medv to  black 0.1927328113789741\n",
      "Correlation medv to  lstat -0.5031562937330367\n",
      "Correlation medv to  medv 1.0\n"
     ]
    }
   ],
   "source": [
    "import six\n",
    "for i in data2.columns:\n",
    "    if not( isinstance(data2.select(i).take(1)[0][0], six.string_types)):\n",
    "        print( \"Correlation medv to \", i, data2.stat.corr('medv',i))"
   ]
  },
  {
   "cell_type": "markdown",
   "metadata": {},
   "source": [
    "# We shoud drop column with comparatively small correlation to target variable 'medv'"
   ]
  },
  {
   "cell_type": "code",
   "execution_count": 23,
   "metadata": {},
   "outputs": [],
   "source": [
    "from pyspark.ml import Pipeline\n",
    "from pyspark.ml.feature import OneHotEncoder\n",
    "featureCols = [\"crim\",   'indus', 'OHE', 'nox',   'black',  \"lstat\",  'tax']\n",
    "\n",
    "OHE = OneHotEncoder(inputCols=['chas'],outputCols=['OHE'])\n",
    "assembler = VectorAssembler(inputCols=featureCols, outputCol=\"features\")\n",
    "standardScaler = StandardScaler(inputCol=\"features\", outputCol=\"features_scaled\")\n",
    "\n",
    "# setup the pipeline\n",
    "pipeline = Pipeline(stages= [OHE, assembler,standardScaler])\n",
    "model = pipeline.fit(data2)\n",
    "df = model.transform(data2)"
   ]
  },
  {
   "cell_type": "markdown",
   "metadata": {},
   "source": [
    "# Train-test split"
   ]
  },
  {
   "cell_type": "code",
   "execution_count": 24,
   "metadata": {},
   "outputs": [],
   "source": [
    "train_data, test_data = df.select(\"features_scaled\", \"medv\").randomSplit([.8,.2],seed = 1234)"
   ]
  },
  {
   "cell_type": "code",
   "execution_count": 25,
   "metadata": {
    "scrolled": true
   },
   "outputs": [
    {
     "name": "stdout",
     "output_type": "stream",
     "text": [
      "(7, 2)\n"
     ]
    }
   ],
   "source": [
    "print((test_data.count(), len(test_data.columns)))"
   ]
  },
  {
   "cell_type": "code",
   "execution_count": 26,
   "metadata": {},
   "outputs": [
    {
     "name": "stdout",
     "output_type": "stream",
     "text": [
      "(24, 2)\n"
     ]
    }
   ],
   "source": [
    "print((train_data.count(), len(train_data.columns)))"
   ]
  },
  {
   "cell_type": "markdown",
   "metadata": {},
   "source": [
    "# Linear regression"
   ]
  },
  {
   "cell_type": "code",
   "execution_count": 27,
   "metadata": {},
   "outputs": [
    {
     "name": "stdout",
     "output_type": "stream",
     "text": [
      "+--------------------+-------+------------------+\n",
      "|     features_Scaled|   medv|         predmedhv|\n",
      "+--------------------+-------+------------------+\n",
      "|[0.15377668695482...|   13.1|12.575774315598155|\n",
      "|[0.29344138853173...|   12.7| 12.63015067655843|\n",
      "|[0.88310284277061...|12.5125|13.031975744974908|\n",
      "|[0.99683829892464...|    8.3|11.015084728158474|\n",
      "|[1.13663816416328...|12.5125|14.886602318013859|\n",
      "|[1.18229327230073...|12.5125|12.662676064999065|\n",
      "|[2.36709417517895...|   10.9|12.342503492645246|\n",
      "+--------------------+-------+------------------+\n",
      "\n"
     ]
    }
   ],
   "source": [
    "lr = LinearRegression(featuresCol='features_scaled', labelCol=\"medv\", predictionCol='predmedhv', \n",
    "                               maxIter=10,  regParam=0.3, elasticNetParam=0.8)\n",
    "\n",
    "model2 = lr.fit(train_data)\n",
    "predictions = model2.transform(test_data)\n",
    "\n",
    "# view some of the columns generated\n",
    "predictions.select('features_Scaled', 'medv', 'predmedhv').show()"
   ]
  },
  {
   "cell_type": "markdown",
   "metadata": {},
   "source": [
    "# Evaluation of  pipeline (5-fold RMSE)"
   ]
  },
  {
   "cell_type": "code",
   "execution_count": 28,
   "metadata": {},
   "outputs": [
    {
     "name": "stdout",
     "output_type": "stream",
     "text": [
      "1.4957541919564634\n"
     ]
    }
   ],
   "source": [
    "from pyspark.ml.evaluation import RegressionEvaluator\n",
    "lr_evaluator = RegressionEvaluator(predictionCol=\"predmedhv\", \\\n",
    "                 labelCol=\"medv\",metricName=\"rmse\")\n",
    "print(lr_evaluator.evaluate(predictions))"
   ]
  },
  {
   "cell_type": "code",
   "execution_count": 29,
   "metadata": {},
   "outputs": [],
   "source": [
    "from pyspark.ml.tuning import ParamGridBuilder, CrossValidator\n",
    "\n",
    "# Create ParamGrid for Cross Validation\n",
    "paramGrid = (ParamGridBuilder()\n",
    "             .addGrid(lr.regParam, [0.2, 0.3])\n",
    "             .build())"
   ]
  },
  {
   "cell_type": "code",
   "execution_count": 30,
   "metadata": {},
   "outputs": [
    {
     "name": "stdout",
     "output_type": "stream",
     "text": [
      "Time to train model: 6.542 seconds\n"
     ]
    }
   ],
   "source": [
    "from time import *\n",
    "start_time = time()\n",
    "\n",
    "# Create 5-fold CrossValidator\n",
    "cv = CrossValidator(estimator=lr,\n",
    "                    estimatorParamMaps=paramGrid,\n",
    "                    evaluator=lr_evaluator, numFolds=5) # numFolds * size_grid = 10 \n",
    "\n",
    "# Run cross validations\n",
    "cvModel = cv.fit(train_data)\n",
    "# likely take a fair amount of time\n",
    "end_time = time()\n",
    "elapsed_time = end_time - start_time\n",
    "print(\"Time to train model: %.3f seconds\" % elapsed_time)"
   ]
  },
  {
   "cell_type": "markdown",
   "metadata": {},
   "source": [
    "# tune hyperparameters "
   ]
  },
  {
   "cell_type": "code",
   "execution_count": 31,
   "metadata": {},
   "outputs": [
    {
     "data": {
      "text/plain": [
       "{Param(parent='LinearRegression_f36b7cb712a3', name='aggregationDepth', doc='suggested depth for treeAggregate (>= 2).'): 2,\n",
       " Param(parent='LinearRegression_f36b7cb712a3', name='elasticNetParam', doc='the ElasticNet mixing parameter, in range [0, 1]. For alpha = 0, the penalty is an L2 penalty. For alpha = 1, it is an L1 penalty.'): 0.8,\n",
       " Param(parent='LinearRegression_f36b7cb712a3', name='epsilon', doc='The shape parameter to control the amount of robustness. Must be > 1.0. Only valid when loss is huber'): 1.35,\n",
       " Param(parent='LinearRegression_f36b7cb712a3', name='featuresCol', doc='features column name.'): 'features_scaled',\n",
       " Param(parent='LinearRegression_f36b7cb712a3', name='fitIntercept', doc='whether to fit an intercept term.'): True,\n",
       " Param(parent='LinearRegression_f36b7cb712a3', name='labelCol', doc='label column name.'): 'medv',\n",
       " Param(parent='LinearRegression_f36b7cb712a3', name='loss', doc='The loss function to be optimized. Supported options: squaredError, huber.'): 'squaredError',\n",
       " Param(parent='LinearRegression_f36b7cb712a3', name='maxIter', doc='max number of iterations (>= 0).'): 10,\n",
       " Param(parent='LinearRegression_f36b7cb712a3', name='predictionCol', doc='prediction column name.'): 'predmedhv',\n",
       " Param(parent='LinearRegression_f36b7cb712a3', name='regParam', doc='regularization parameter (>= 0).'): 0.2,\n",
       " Param(parent='LinearRegression_f36b7cb712a3', name='solver', doc='The solver algorithm for optimization. Supported options: auto, normal, l-bfgs.'): 'auto',\n",
       " Param(parent='LinearRegression_f36b7cb712a3', name='standardization', doc='whether to standardize the training features before fitting the model.'): True,\n",
       " Param(parent='LinearRegression_f36b7cb712a3', name='tol', doc='the convergence tolerance for iterative algorithms (>= 0).'): 1e-06}"
      ]
     },
     "execution_count": 31,
     "metadata": {},
     "output_type": "execute_result"
    }
   ],
   "source": [
    "bestModel = cvModel.bestModel\n",
    "bestModel.extractParamMap()"
   ]
  },
  {
   "cell_type": "code",
   "execution_count": 32,
   "metadata": {},
   "outputs": [],
   "source": [
    "hold_out_preds = bestModel.transform(test_data)"
   ]
  },
  {
   "cell_type": "code",
   "execution_count": 33,
   "metadata": {},
   "outputs": [
    {
     "name": "stdout",
     "output_type": "stream",
     "text": [
      "1.491737711703905\n",
      "rmse\n"
     ]
    }
   ],
   "source": [
    "print(lr_evaluator.evaluate(hold_out_preds))\n",
    "print(lr_evaluator.getMetricName())\n",
    "regr_model = lr_evaluator.evaluate(hold_out_preds)"
   ]
  },
  {
   "cell_type": "markdown",
   "metadata": {},
   "source": [
    "#  RandomForest"
   ]
  },
  {
   "cell_type": "code",
   "execution_count": 34,
   "metadata": {},
   "outputs": [
    {
     "name": "stdout",
     "output_type": "stream",
     "text": [
      "1.4850507296891744\n"
     ]
    }
   ],
   "source": [
    "from pyspark.ml.regression import RandomForestRegressor\n",
    "rf = RandomForestRegressor(featuresCol=\"features_scaled\", labelCol = 'medv')\n",
    "rf_model = rf.fit(train_data)\n",
    "rf_predictions = rf_model.transform(test_data)\n",
    "rf_evaluator = RegressionEvaluator(\n",
    "    labelCol=\"medv\", predictionCol=\"prediction\", metricName=\"rmse\")\n",
    "print(rf_evaluator.evaluate(rf_predictions))"
   ]
  },
  {
   "cell_type": "code",
   "execution_count": 35,
   "metadata": {},
   "outputs": [],
   "source": [
    "rfparamGrid = (ParamGridBuilder()\n",
    "               .addGrid(rf.maxDepth, [2, 20])\n",
    "               .addGrid(rf.maxBins, [5, 32,  50])\n",
    "               .addGrid(rf.numTrees, [40,50 ])\n",
    "             .build())\n",
    "\n",
    "# Create 5-fold CrossValidator\n",
    "rfcv = CrossValidator(estimator = rf,\n",
    "                      estimatorParamMaps = rfparamGrid,\n",
    "                      evaluator = rf_evaluator,\n",
    "                      numFolds = 5)"
   ]
  },
  {
   "cell_type": "code",
   "execution_count": 36,
   "metadata": {},
   "outputs": [],
   "source": [
    "rfcvModel = rfcv.fit(train_data)"
   ]
  },
  {
   "cell_type": "code",
   "execution_count": 37,
   "metadata": {},
   "outputs": [
    {
     "data": {
      "text/plain": [
       "{Param(parent='RandomForestRegressor_ba6fd6aa69bb', name='bootstrap', doc='Whether bootstrap samples are used when building trees.'): True,\n",
       " Param(parent='RandomForestRegressor_ba6fd6aa69bb', name='cacheNodeIds', doc='If false, the algorithm will pass trees to executors to match instances with nodes. If true, the algorithm will cache node IDs for each instance. Caching can speed up training of deeper trees. Users can set how often should the cache be checkpointed or disable it by setting checkpointInterval.'): False,\n",
       " Param(parent='RandomForestRegressor_ba6fd6aa69bb', name='checkpointInterval', doc='set checkpoint interval (>= 1) or disable checkpoint (-1). E.g. 10 means that the cache will get checkpointed every 10 iterations. Note: this setting will be ignored if the checkpoint directory is not set in the SparkContext.'): 10,\n",
       " Param(parent='RandomForestRegressor_ba6fd6aa69bb', name='featureSubsetStrategy', doc=\"The number of features to consider for splits at each tree node. Supported options: 'auto' (choose automatically for task: If numTrees == 1, set to 'all'. If numTrees > 1 (forest), set to 'sqrt' for classification and to 'onethird' for regression), 'all' (use all features), 'onethird' (use 1/3 of the features), 'sqrt' (use sqrt(number of features)), 'log2' (use log2(number of features)), 'n' (when n is in the range (0, 1.0], use n * number of features. When n is in the range (1, number of features), use n features). default = 'auto'\"): 'auto',\n",
       " Param(parent='RandomForestRegressor_ba6fd6aa69bb', name='featuresCol', doc='features column name.'): 'features_scaled',\n",
       " Param(parent='RandomForestRegressor_ba6fd6aa69bb', name='impurity', doc='Criterion used for information gain calculation (case-insensitive). Supported options: variance'): 'variance',\n",
       " Param(parent='RandomForestRegressor_ba6fd6aa69bb', name='labelCol', doc='label column name.'): 'medv',\n",
       " Param(parent='RandomForestRegressor_ba6fd6aa69bb', name='leafCol', doc='Leaf indices column name. Predicted leaf index of each instance in each tree by preorder.'): '',\n",
       " Param(parent='RandomForestRegressor_ba6fd6aa69bb', name='maxBins', doc='Max number of bins for discretizing continuous features.  Must be >=2 and >= number of categories for any categorical feature.'): 5,\n",
       " Param(parent='RandomForestRegressor_ba6fd6aa69bb', name='maxDepth', doc='Maximum depth of the tree. (>= 0) E.g., depth 0 means 1 leaf node; depth 1 means 1 internal node + 2 leaf nodes.'): 20,\n",
       " Param(parent='RandomForestRegressor_ba6fd6aa69bb', name='maxMemoryInMB', doc='Maximum memory in MB allocated to histogram aggregation. If too small, then 1 node will be split per iteration, and its aggregates may exceed this size.'): 256,\n",
       " Param(parent='RandomForestRegressor_ba6fd6aa69bb', name='minInfoGain', doc='Minimum information gain for a split to be considered at a tree node.'): 0.0,\n",
       " Param(parent='RandomForestRegressor_ba6fd6aa69bb', name='minInstancesPerNode', doc='Minimum number of instances each child must have after split. If a split causes the left or right child to have fewer than minInstancesPerNode, the split will be discarded as invalid. Should be >= 1.'): 1,\n",
       " Param(parent='RandomForestRegressor_ba6fd6aa69bb', name='minWeightFractionPerNode', doc='Minimum fraction of the weighted sample count that each child must have after split. If a split causes the fraction of the total weight in the left or right child to be less than minWeightFractionPerNode, the split will be discarded as invalid. Should be in interval [0.0, 0.5).'): 0.0,\n",
       " Param(parent='RandomForestRegressor_ba6fd6aa69bb', name='numTrees', doc='Number of trees to train (>= 1).'): 40,\n",
       " Param(parent='RandomForestRegressor_ba6fd6aa69bb', name='predictionCol', doc='prediction column name.'): 'prediction',\n",
       " Param(parent='RandomForestRegressor_ba6fd6aa69bb', name='seed', doc='random seed.'): 1604776080244791474,\n",
       " Param(parent='RandomForestRegressor_ba6fd6aa69bb', name='subsamplingRate', doc='Fraction of the training data used for learning each decision tree, in range (0, 1].'): 1.0}"
      ]
     },
     "execution_count": 37,
     "metadata": {},
     "output_type": "execute_result"
    }
   ],
   "source": [
    "bestModel2 = rfcvModel.bestModel\n",
    "bestModel2.extractParamMap()"
   ]
  },
  {
   "cell_type": "code",
   "execution_count": 38,
   "metadata": {},
   "outputs": [],
   "source": [
    "hold_out_preds2 = bestModel2.transform(test_data)"
   ]
  },
  {
   "cell_type": "code",
   "execution_count": 39,
   "metadata": {},
   "outputs": [
    {
     "name": "stdout",
     "output_type": "stream",
     "text": [
      "1.4093152079582587\n",
      "rmse\n"
     ]
    }
   ],
   "source": [
    "print(rf_evaluator.evaluate(hold_out_preds2))\n",
    "print(rf_evaluator.getMetricName())\n",
    "rf_rmse = rf_evaluator.evaluate(hold_out_preds2)"
   ]
  },
  {
   "cell_type": "markdown",
   "metadata": {},
   "source": [
    "# gbt "
   ]
  },
  {
   "cell_type": "code",
   "execution_count": 40,
   "metadata": {
    "scrolled": true
   },
   "outputs": [
    {
     "name": "stdout",
     "output_type": "stream",
     "text": [
      "+------------------+-------+--------------------+\n",
      "|        prediction|   medv|     features_scaled|\n",
      "+------------------+-------+--------------------+\n",
      "|15.750548646953066|   13.1|[0.15377668695482...|\n",
      "|14.165359655210901|   12.7|[0.29344138853173...|\n",
      "| 9.531428183695713|12.5125|[0.88310284277061...|\n",
      "| 8.601816994117012|    8.3|[0.99683829892464...|\n",
      "| 12.51583866312528|12.5125|[1.13663816416328...|\n",
      "+------------------+-------+--------------------+\n",
      "only showing top 5 rows\n",
      "\n",
      "Root Mean Squared Error (RMSE) on test data = 1.72275\n"
     ]
    }
   ],
   "source": [
    "from pyspark.ml.regression import GBTRegressor\n",
    "gbt = GBTRegressor(featuresCol = 'features_scaled', labelCol = 'medv', maxIter=10)\n",
    "gbt_model = gbt.fit(train_data)\n",
    "gbt_predictions = gbt_model.transform(test_data)\n",
    "gbt_predictions.select('prediction', 'medv', 'features_scaled').show(5)\n",
    "gbt_evaluator = RegressionEvaluator(\n",
    "    labelCol=\"medv\", predictionCol=\"prediction\", metricName=\"rmse\")\n",
    "rmse = gbt_evaluator.evaluate(gbt_predictions)\n",
    "print(\"Root Mean Squared Error (RMSE) on test data = %g\" % rmse)"
   ]
  },
  {
   "cell_type": "code",
   "execution_count": 41,
   "metadata": {},
   "outputs": [
    {
     "data": {
      "text/plain": [
       "{Param(parent='GBTRegressor_16cebb1c8638', name='cacheNodeIds', doc='If false, the algorithm will pass trees to executors to match instances with nodes. If true, the algorithm will cache node IDs for each instance. Caching can speed up training of deeper trees. Users can set how often should the cache be checkpointed or disable it by setting checkpointInterval.'): False,\n",
       " Param(parent='GBTRegressor_16cebb1c8638', name='checkpointInterval', doc='set checkpoint interval (>= 1) or disable checkpoint (-1). E.g. 10 means that the cache will get checkpointed every 10 iterations. Note: this setting will be ignored if the checkpoint directory is not set in the SparkContext.'): 10,\n",
       " Param(parent='GBTRegressor_16cebb1c8638', name='featureSubsetStrategy', doc=\"The number of features to consider for splits at each tree node. Supported options: 'auto' (choose automatically for task: If numTrees == 1, set to 'all'. If numTrees > 1 (forest), set to 'sqrt' for classification and to 'onethird' for regression), 'all' (use all features), 'onethird' (use 1/3 of the features), 'sqrt' (use sqrt(number of features)), 'log2' (use log2(number of features)), 'n' (when n is in the range (0, 1.0], use n * number of features. When n is in the range (1, number of features), use n features). default = 'auto'\"): 'all',\n",
       " Param(parent='GBTRegressor_16cebb1c8638', name='featuresCol', doc='features column name.'): 'features_scaled',\n",
       " Param(parent='GBTRegressor_16cebb1c8638', name='impurity', doc='Criterion used for information gain calculation (case-insensitive). Supported options: variance'): 'variance',\n",
       " Param(parent='GBTRegressor_16cebb1c8638', name='labelCol', doc='label column name.'): 'medv',\n",
       " Param(parent='GBTRegressor_16cebb1c8638', name='leafCol', doc='Leaf indices column name. Predicted leaf index of each instance in each tree by preorder.'): '',\n",
       " Param(parent='GBTRegressor_16cebb1c8638', name='lossType', doc='Loss function which GBT tries to minimize (case-insensitive). Supported options: squared, absolute'): 'squared',\n",
       " Param(parent='GBTRegressor_16cebb1c8638', name='maxBins', doc='Max number of bins for discretizing continuous features.  Must be >=2 and >= number of categories for any categorical feature.'): 32,\n",
       " Param(parent='GBTRegressor_16cebb1c8638', name='maxDepth', doc='Maximum depth of the tree. (>= 0) E.g., depth 0 means 1 leaf node; depth 1 means 1 internal node + 2 leaf nodes.'): 5,\n",
       " Param(parent='GBTRegressor_16cebb1c8638', name='maxIter', doc='max number of iterations (>= 0).'): 10,\n",
       " Param(parent='GBTRegressor_16cebb1c8638', name='maxMemoryInMB', doc='Maximum memory in MB allocated to histogram aggregation. If too small, then 1 node will be split per iteration, and its aggregates may exceed this size.'): 256,\n",
       " Param(parent='GBTRegressor_16cebb1c8638', name='minInfoGain', doc='Minimum information gain for a split to be considered at a tree node.'): 0.0,\n",
       " Param(parent='GBTRegressor_16cebb1c8638', name='minInstancesPerNode', doc='Minimum number of instances each child must have after split. If a split causes the left or right child to have fewer than minInstancesPerNode, the split will be discarded as invalid. Should be >= 1.'): 1,\n",
       " Param(parent='GBTRegressor_16cebb1c8638', name='minWeightFractionPerNode', doc='Minimum fraction of the weighted sample count that each child must have after split. If a split causes the fraction of the total weight in the left or right child to be less than minWeightFractionPerNode, the split will be discarded as invalid. Should be in interval [0.0, 0.5).'): 0.0,\n",
       " Param(parent='GBTRegressor_16cebb1c8638', name='predictionCol', doc='prediction column name.'): 'prediction',\n",
       " Param(parent='GBTRegressor_16cebb1c8638', name='seed', doc='random seed.'): -6948915326155171161,\n",
       " Param(parent='GBTRegressor_16cebb1c8638', name='stepSize', doc='Step size (a.k.a. learning rate) in interval (0, 1] for shrinking the contribution of each estimator.'): 0.1,\n",
       " Param(parent='GBTRegressor_16cebb1c8638', name='subsamplingRate', doc='Fraction of the training data used for learning each decision tree, in range (0, 1].'): 1.0,\n",
       " Param(parent='GBTRegressor_16cebb1c8638', name='validationTol', doc='Threshold for stopping early when fit with validation is used. If the error rate on the validation input changes by less than the validationTol, then learning will stop early (before `maxIter`). This parameter is ignored when fit without validation is used.'): 0.01}"
      ]
     },
     "execution_count": 41,
     "metadata": {},
     "output_type": "execute_result"
    }
   ],
   "source": [
    "gbt_model.extractParamMap()"
   ]
  },
  {
   "cell_type": "code",
   "execution_count": 42,
   "metadata": {},
   "outputs": [],
   "source": [
    "gbparamGrid = (ParamGridBuilder()\n",
    "             .addGrid(gbt.maxDepth, [5,10, 20, 30])\n",
    "             .addGrid(gbt.maxBins, [32, 40, 45])\n",
    "             .addGrid(gbt.maxIter, [5,7])\n",
    "             .build())"
   ]
  },
  {
   "cell_type": "code",
   "execution_count": 43,
   "metadata": {},
   "outputs": [],
   "source": [
    "gbcv = CrossValidator(estimator = gbt,\n",
    "                      estimatorParamMaps = gbparamGrid,\n",
    "                      evaluator = gbt_evaluator,\n",
    "                      numFolds = 5)"
   ]
  },
  {
   "cell_type": "code",
   "execution_count": 44,
   "metadata": {},
   "outputs": [],
   "source": [
    "gbcv_model = gbcv.fit(train_data)"
   ]
  },
  {
   "cell_type": "code",
   "execution_count": 45,
   "metadata": {},
   "outputs": [
    {
     "data": {
      "text/plain": [
       "{Param(parent='GBTRegressor_16cebb1c8638', name='cacheNodeIds', doc='If false, the algorithm will pass trees to executors to match instances with nodes. If true, the algorithm will cache node IDs for each instance. Caching can speed up training of deeper trees. Users can set how often should the cache be checkpointed or disable it by setting checkpointInterval.'): False,\n",
       " Param(parent='GBTRegressor_16cebb1c8638', name='checkpointInterval', doc='set checkpoint interval (>= 1) or disable checkpoint (-1). E.g. 10 means that the cache will get checkpointed every 10 iterations. Note: this setting will be ignored if the checkpoint directory is not set in the SparkContext.'): 10,\n",
       " Param(parent='GBTRegressor_16cebb1c8638', name='featureSubsetStrategy', doc=\"The number of features to consider for splits at each tree node. Supported options: 'auto' (choose automatically for task: If numTrees == 1, set to 'all'. If numTrees > 1 (forest), set to 'sqrt' for classification and to 'onethird' for regression), 'all' (use all features), 'onethird' (use 1/3 of the features), 'sqrt' (use sqrt(number of features)), 'log2' (use log2(number of features)), 'n' (when n is in the range (0, 1.0], use n * number of features. When n is in the range (1, number of features), use n features). default = 'auto'\"): 'all',\n",
       " Param(parent='GBTRegressor_16cebb1c8638', name='featuresCol', doc='features column name.'): 'features_scaled',\n",
       " Param(parent='GBTRegressor_16cebb1c8638', name='impurity', doc='Criterion used for information gain calculation (case-insensitive). Supported options: variance'): 'variance',\n",
       " Param(parent='GBTRegressor_16cebb1c8638', name='labelCol', doc='label column name.'): 'medv',\n",
       " Param(parent='GBTRegressor_16cebb1c8638', name='leafCol', doc='Leaf indices column name. Predicted leaf index of each instance in each tree by preorder.'): '',\n",
       " Param(parent='GBTRegressor_16cebb1c8638', name='lossType', doc='Loss function which GBT tries to minimize (case-insensitive). Supported options: squared, absolute'): 'squared',\n",
       " Param(parent='GBTRegressor_16cebb1c8638', name='maxBins', doc='Max number of bins for discretizing continuous features.  Must be >=2 and >= number of categories for any categorical feature.'): 32,\n",
       " Param(parent='GBTRegressor_16cebb1c8638', name='maxDepth', doc='Maximum depth of the tree. (>= 0) E.g., depth 0 means 1 leaf node; depth 1 means 1 internal node + 2 leaf nodes.'): 5,\n",
       " Param(parent='GBTRegressor_16cebb1c8638', name='maxIter', doc='max number of iterations (>= 0).'): 7,\n",
       " Param(parent='GBTRegressor_16cebb1c8638', name='maxMemoryInMB', doc='Maximum memory in MB allocated to histogram aggregation. If too small, then 1 node will be split per iteration, and its aggregates may exceed this size.'): 256,\n",
       " Param(parent='GBTRegressor_16cebb1c8638', name='minInfoGain', doc='Minimum information gain for a split to be considered at a tree node.'): 0.0,\n",
       " Param(parent='GBTRegressor_16cebb1c8638', name='minInstancesPerNode', doc='Minimum number of instances each child must have after split. If a split causes the left or right child to have fewer than minInstancesPerNode, the split will be discarded as invalid. Should be >= 1.'): 1,\n",
       " Param(parent='GBTRegressor_16cebb1c8638', name='minWeightFractionPerNode', doc='Minimum fraction of the weighted sample count that each child must have after split. If a split causes the fraction of the total weight in the left or right child to be less than minWeightFractionPerNode, the split will be discarded as invalid. Should be in interval [0.0, 0.5).'): 0.0,\n",
       " Param(parent='GBTRegressor_16cebb1c8638', name='predictionCol', doc='prediction column name.'): 'prediction',\n",
       " Param(parent='GBTRegressor_16cebb1c8638', name='seed', doc='random seed.'): -6948915326155171161,\n",
       " Param(parent='GBTRegressor_16cebb1c8638', name='stepSize', doc='Step size (a.k.a. learning rate) in interval (0, 1] for shrinking the contribution of each estimator.'): 0.1,\n",
       " Param(parent='GBTRegressor_16cebb1c8638', name='subsamplingRate', doc='Fraction of the training data used for learning each decision tree, in range (0, 1].'): 1.0,\n",
       " Param(parent='GBTRegressor_16cebb1c8638', name='validationTol', doc='Threshold for stopping early when fit with validation is used. If the error rate on the validation input changes by less than the validationTol, then learning will stop early (before `maxIter`). This parameter is ignored when fit without validation is used.'): 0.01}"
      ]
     },
     "execution_count": 45,
     "metadata": {},
     "output_type": "execute_result"
    }
   ],
   "source": [
    "bestModel3 = gbcv_model.bestModel\n",
    "bestModel3.extractParamMap()"
   ]
  },
  {
   "cell_type": "code",
   "execution_count": 46,
   "metadata": {},
   "outputs": [],
   "source": [
    "hold_out_preds3 = bestModel3.transform(test_data)"
   ]
  },
  {
   "cell_type": "code",
   "execution_count": 47,
   "metadata": {},
   "outputs": [
    {
     "name": "stdout",
     "output_type": "stream",
     "text": [
      "1.7459998255671352\n",
      "rmse\n"
     ]
    }
   ],
   "source": [
    "print(gbt_evaluator.evaluate(hold_out_preds3))\n",
    "print(gbt_evaluator.getMetricName())\n",
    "rmse = gbt_evaluator.evaluate(hold_out_preds3)"
   ]
  },
  {
   "cell_type": "markdown",
   "metadata": {},
   "source": [
    "# The best model is random forest with the smallest rmse\n"
   ]
  },
  {
   "cell_type": "code",
   "execution_count": 48,
   "metadata": {},
   "outputs": [],
   "source": [
    "df2 = spark.createDataFrame(\n",
    "    [\n",
    "        ('linear regression', regr_model), \n",
    "        ( 'random forest',rf_rmse),\n",
    "        ('gradient boosted tree', rmse)\n",
    "    ],\n",
    "    [\"model\", \"rmse\"]  \n",
    ")\n"
   ]
  },
  {
   "cell_type": "code",
   "execution_count": 49,
   "metadata": {},
   "outputs": [
    {
     "name": "stdout",
     "output_type": "stream",
     "text": [
      "+--------------------+------------------+\n",
      "|               model|              rmse|\n",
      "+--------------------+------------------+\n",
      "|   linear regression| 1.491737711703905|\n",
      "|       random forest|1.4093152079582587|\n",
      "|gradient boosted ...|1.7459998255671352|\n",
      "+--------------------+------------------+\n",
      "\n"
     ]
    }
   ],
   "source": [
    "df2.show()"
   ]
  }
 ],
 "metadata": {
  "kernelspec": {
   "display_name": "Python 3",
   "language": "python",
   "name": "python3"
  },
  "language_info": {
   "codemirror_mode": {
    "name": "ipython",
    "version": 3
   },
   "file_extension": ".py",
   "mimetype": "text/x-python",
   "name": "python",
   "nbconvert_exporter": "python",
   "pygments_lexer": "ipython3",
   "version": "3.8.6"
  }
 },
 "nbformat": 4,
 "nbformat_minor": 4
}
